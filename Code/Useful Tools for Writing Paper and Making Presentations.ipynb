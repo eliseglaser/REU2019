{
 "cells": [
  {
   "cell_type": "markdown",
   "metadata": {},
   "source": [
    "# Cluster Analysis\n",
    "This script can be used to get top words from clusters printed in a nice format for pasting into your paper. It can also make a nice table of top words to put in your presentation slides or in your paper."
   ]
  },
  {
   "cell_type": "code",
   "execution_count": 4,
   "metadata": {},
   "outputs": [],
   "source": [
    "# Import useful mathematical libraries\n",
    "import copy\n",
    "import numpy as np\n",
    "import pandas as pd\n",
    "\n",
    "# Import useful Machine learning libraries\n",
    "import gensim\n",
    "\n",
    "#import function for normalization\n",
    "from sklearn.preprocessing import normalize\n",
    "\n",
    "#import TF function\n",
    "from sklearn.feature_extraction.text import CountVectorizer\n",
    "\n",
    "\n",
    "# Import utility files\n",
    "from utils import read_df, remove_links, clean_sentence, save_object, load_object, generate_cluster_favorance, make_clustering_objects,make_frequency_dictionary, get_top_words, quoteText, make_csv_top_words, get_top_words_csvStyle\n"
   ]
  },
  {
   "cell_type": "code",
   "execution_count": 6,
   "metadata": {},
   "outputs": [],
   "source": [
    "#Enter Model Name\n",
    "model_name = 'DrugAbuse'"
   ]
  },
  {
   "cell_type": "markdown",
   "metadata": {},
   "source": [
    "## Get Top Words\n",
    "This function gets the top words of a cluster in a nice format to paste in your paper. \n",
    "\n",
    "NOTE: Dr. Gemmell likes curly quotes in the final draft of your paper. To get curly quotes in LaTeX, paste the following in the preamble of your document, which is before \\begin{document}:\n",
    "\n",
    "\\usepackage [english]{babel}\n",
    "\n",
    "\\usepackage [autostyle, english = american]{csquotes}\n",
    "\n",
    "\\MakeOuterQuote{\"}\n"
   ]
  },
  {
   "cell_type": "code",
   "execution_count": 8,
   "metadata": {},
   "outputs": [
    {
     "name": "stderr",
     "output_type": "stream",
     "text": [
      "/Users/Alex/anaconda3/lib/python3.6/site-packages/smart_open/smart_open_lib.py:398: UserWarning: This function is deprecated, use smart_open.open instead. See the migration notes for details: https://github.com/RaRe-Technologies/smart_open/blob/master/README.rst#migrating-to-the-new-open-function\n",
      "  'See the migration notes for details: %s' % _MIGRATION_NOTES_URL\n"
     ]
    },
    {
     "name": "stdout",
     "output_type": "stream",
     "text": [
      "\"link\", \"comments\", \"subs\", \"thread\", \"message\", \"comment\", \"user\", \"link_link\", \"users\", and \"daily_check\"\n"
     ]
    }
   ],
   "source": [
    "#Get Top Words in a nice format to paste into your paper.\n",
    "clusterNumber = 80\n",
    "numWords = 10\n",
    "get_top_words(clusterNumber,numWords,model_name)"
   ]
  },
  {
   "cell_type": "code",
   "execution_count": 3,
   "metadata": {},
   "outputs": [
    {
     "name": "stderr",
     "output_type": "stream",
     "text": [
      "/Users/Alex/anaconda3/lib/python3.6/site-packages/smart_open/smart_open_lib.py:398: UserWarning: This function is deprecated, use smart_open.open instead. See the migration notes for details: https://github.com/RaRe-Technologies/smart_open/blob/master/README.rst#migrating-to-the-new-open-function\n",
      "  'See the migration notes for details: %s' % _MIGRATION_NOTES_URL\n"
     ]
    }
   ],
   "source": [
    "#Get Nice CSV of top words in a Cluster\n",
    "clusterNumbers = [41]\n",
    "numWords = 10\n",
    "csvName = 'Cluster46'\n",
    "make_csv_top_words(model_name,clusterNumbers,numWords,csvName)"
   ]
  },
  {
   "cell_type": "code",
   "execution_count": 14,
   "metadata": {},
   "outputs": [
    {
     "name": "stderr",
     "output_type": "stream",
     "text": [
      "/Users/Alex/anaconda3/lib/python3.6/site-packages/smart_open/smart_open_lib.py:398: UserWarning:\n",
      "\n",
      "This function is deprecated, use smart_open.open instead. See the migration notes for details: https://github.com/RaRe-Technologies/smart_open/blob/master/README.rst#migrating-to-the-new-open-function\n",
      "\n"
     ]
    },
    {
     "name": "stdout",
     "output_type": "stream",
     "text": [
      "Hey everyone. A while ago a nurse gave me a prepped naloxone needle (with 5mg, in 1mg indicators on the side). I've never injected opiates so I could never take this as intended. It is easy to open the lid of the syringe to gain access to the liquid inside. I believe that if I dab this on the inside of my nose it will produce a naloxone effect. Currently I'm really down with my life. I'm feeling terrible. I'm on a \"bupe\" replacement thing as I was taking 600-900mg of \"dihydrocodeine\" pills a day. That's when the nurse gave me a naloxone injector - I still don't fully know why, maybe it's protocol.\n"
     ]
    }
   ],
   "source": [
    "#Quote Text for all words that appear in a particular cluster in a post.\n",
    "postText = \"Hey everyone. A while ago a nurse gave me a prepped naloxone needle (with 5mg, in 1mg indicators on the side). I've never injected opiates so I could never take this as intended. It is easy to open the lid of the syringe to gain access to the liquid inside. I believe that if I dab this on the inside of my nose it will produce a naloxone effect. Currently I'm really down with my life. I'm feeling terrible. I'm on a bupe replacement thing as I was taking 600-900mg of dihydrocodeine pills a day. That's when the nurse gave me a naloxone injector - I still don't fully know why, maybe it's protocol.\"\n",
    "clusterNumber = 97\n",
    "numClusters = 100\n",
    "quoteText(postText,clusterNumber,model_name,numClusters)"
   ]
  },
  {
   "cell_type": "code",
   "execution_count": null,
   "metadata": {},
   "outputs": [],
   "source": []
  }
 ],
 "metadata": {
  "kernelspec": {
   "display_name": "Python 3",
   "language": "python",
   "name": "python3"
  },
  "language_info": {
   "codemirror_mode": {
    "name": "ipython",
    "version": 3
   },
   "file_extension": ".py",
   "mimetype": "text/x-python",
   "name": "python",
   "nbconvert_exporter": "python",
   "pygments_lexer": "ipython3",
   "version": "3.6.8"
  }
 },
 "nbformat": 4,
 "nbformat_minor": 2
}
